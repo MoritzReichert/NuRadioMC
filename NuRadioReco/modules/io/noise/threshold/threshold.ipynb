{
 "cells": [
  {
   "cell_type": "markdown",
   "metadata": {},
   "source": [
    "# Imports\n"
   ]
  },
  {
   "cell_type": "code",
   "execution_count": 4,
   "metadata": {},
   "outputs": [],
   "source": [
    "#!/usr/bin/env python\n",
    "# coding: utf-8\n",
    "\n",
    "# # LPDA trigger threshold\n",
    "\n",
    "import numpy as np\n",
    "import pandas as pd\n",
    "import matplotlib.pyplot as plt\n",
    "from matplotlib.dates import  DateFormatter\n",
    "\n",
    "from NuRadioReco.modules.trigger import powerIntegration\n",
    "from NuRadioReco.modules.channelBandPassFilter import channelBandPassFilter\n",
    "from NuRadioReco.modules.io.rno_g import readRNOGData\n",
    "from NuRadioReco.detector import detector\n",
    "from NuRadioReco.utilities import units\n",
    "\n",
    "import uproot\n",
    "from astropy.time import Time, TimeDelta\n",
    "\n",
    "#disable trigger overridden warning\n",
    "import logging\n",
    "logging.getLogger('BaseStation').setLevel(logging.ERROR)\n",
    "\n",
    "from tensorflow import keras\n",
    "\n",
    "import numpy as np\n",
    "import pandas as pd\n",
    "import matplotlib.pyplot as plt\n",
    "import glob, os\n",
    "import sys\n",
    "\n",
    "sys.path.append(os.path.dirname(os.path.dirname(os.path.abspath(\"analyze.py\"))))\n",
    "sys.path.insert(1, '/lustre/fs22/group/radio/dhjelm/')\n",
    "import data_preprocessing\n",
    "import analyze"
   ]
  },
  {
   "cell_type": "markdown",
   "metadata": {},
   "source": [
    "# WGAN"
   ]
  },
  {
   "cell_type": "code",
   "execution_count": 15,
   "metadata": {},
   "outputs": [
    {
     "name": "stdout",
     "output_type": "stream",
     "text": [
      "<class 'numpy.ndarray'>\n"
     ]
    }
   ],
   "source": [
    "dataset = np.load('/lustre/fs22/group/radio/dhjelm/data.npy')\n",
    "data = np.load('/lustre/fs22/group/radio/dhjelm/data_preprocessed.npy')\n",
    "print(type(data))"
   ]
  },
  {
   "cell_type": "code",
   "execution_count": 5,
   "metadata": {},
   "outputs": [
    {
     "name": "stderr",
     "output_type": "stream",
     "text": [
      "2022-09-22 15:46:27.349374: W tensorflow/stream_executor/platform/default/dso_loader.cc:64] Could not load dynamic library 'libcuda.so.1'; dlerror: libcuda.so.1: cannot open shared object file: No such file or directory\n",
      "2022-09-22 15:46:27.349424: W tensorflow/stream_executor/cuda/cuda_driver.cc:263] failed call to cuInit: UNKNOWN ERROR (303)\n",
      "2022-09-22 15:46:27.349454: I tensorflow/stream_executor/cuda/cuda_diagnostics.cc:156] kernel driver does not appear to be running on this host (wgs3e.zeuthen.desy.de): /proc/driver/nvidia/version does not exist\n",
      "2022-09-22 15:46:27.349833: I tensorflow/core/platform/cpu_feature_guard.cc:193] This TensorFlow binary is optimized with oneAPI Deep Neural Network Library (oneDNN) to use the following CPU instructions in performance-critical operations:  AVX2 AVX512F FMA\n",
      "To enable them in other operations, rebuild TensorFlow with the appropriate compiler flags.\n",
      "WARNING:tensorflow:No training configuration found in save file, so the model was *not* compiled. Compile it manually.\n"
     ]
    }
   ],
   "source": [
    "generator = keras.models.load_model('time_fft_wavelet_generator_2')"
   ]
  },
  {
   "cell_type": "code",
   "execution_count": 4,
   "metadata": {},
   "outputs": [],
   "source": [
    "def get_generated_noise(generator):\n",
    "    input_noise = np.random.randn(1, 128)\n",
    "    input_noise = np.expand_dims(input_noise, axis=-1) \n",
    "    noise = generator.predict_on_batch(input_noise)\n",
    "    noise = noise[:,:,0]\n",
    "    noise = noise*dataset.std() + dataset.mean()\n",
    "    return noise[0]"
   ]
  },
  {
   "cell_type": "code",
   "execution_count": 5,
   "metadata": {},
   "outputs": [],
   "source": [
    "# Save original directory\n",
    "owd = os.getcwd()"
   ]
  },
  {
   "cell_type": "code",
   "execution_count": 6,
   "metadata": {},
   "outputs": [],
   "source": [
    "\n",
    "# Station to pick files from\n",
    "station = 24\n",
    "\n",
    "# Change to the data directory\n",
    "os.chdir(\"../../shallman/data/rno_g/forced_triggers/inbox/\")\n",
    "\n",
    "# Create a list for file names\n",
    "file_names = []\n",
    "\n",
    "# For each root-file in the directory\n",
    "for file in glob.glob(\"*.root\"):\n",
    "\n",
    "    # If it belongs to the station\n",
    "    if file.startswith(f\"forced_triggers_station{station}\"):\n",
    "\n",
    "        file_names.append(file)"
   ]
  },
  {
   "cell_type": "code",
   "execution_count": 8,
   "metadata": {},
   "outputs": [
    {
     "name": "stdout",
     "output_type": "stream",
     "text": [
      "496\n"
     ]
    }
   ],
   "source": [
    "print(len(file_names))"
   ]
  },
  {
   "cell_type": "code",
   "execution_count": 9,
   "metadata": {},
   "outputs": [
    {
     "name": "stderr",
     "output_type": "stream",
     "text": [
      "WARNING:NuRadioReco.detector:loading detector description from /afs/ifh.de/group/radio/software/anaconda_p3/envs/jupyter/lib/python3.9/site-packages/NuRadioReco/detector/RNO_G/RNO_season_2021.json\n",
      "WARNING:NuRadioReco.readRNOGdata:reading in event 0/19 (0%) ETA: 0.0 minutes\n"
     ]
    },
    {
     "name": "stdout",
     "output_type": "stream",
     "text": [
      "Data event 0, triggered at threshold 0.0019338917504552321\n",
      "Generated event 0, triggered at threshold 0.0012458833642950082\n"
     ]
    },
    {
     "name": "stderr",
     "output_type": "stream",
     "text": [
      "2022-09-22 13:09:29.704903: W tensorflow/core/data/root_dataset.cc:266] Optimization loop failed: CANCELLED: Operation was cancelled\n"
     ]
    },
    {
     "name": "stdout",
     "output_type": "stream",
     "text": [
      "Data event 1, triggered at threshold 0.0015702901247293774\n",
      "Generated event 1, triggered at threshold 0.0016070528182616384\n",
      "Data event 2, triggered at threshold 0.000860346441668451\n",
      "Generated event 2, triggered at threshold 0.0013667163564620073\n",
      "Data event 3, triggered at threshold 0.0012750512407130128\n",
      "Generated event 3, triggered at threshold 0.0018896523396912095\n",
      "Data event 4, triggered at threshold 0.001011637979766207\n",
      "Generated event 4, triggered at threshold 0.0016831803533309566\n",
      "Data event 5, triggered at threshold 0.0016831803533309566\n",
      "Generated event 5, triggered at threshold 0.0014992684327860455\n",
      "Data event 6, triggered at threshold 0.0011623224686798518\n",
      "Generated event 6, triggered at threshold 0.0018041864093920718\n"
     ]
    },
    {
     "name": "stderr",
     "output_type": "stream",
     "text": [
      "2022-09-22 13:09:39.621639: W tensorflow/core/data/root_dataset.cc:266] Optimization loop failed: CANCELLED: Operation was cancelled\n"
     ]
    },
    {
     "name": "stdout",
     "output_type": "stream",
     "text": [
      "Data event 7, triggered at threshold 0.0007488103857590023\n",
      "Generated event 7, triggered at threshold 0.0016070528182616384\n"
     ]
    },
    {
     "name": "stderr",
     "output_type": "stream",
     "text": [
      "2022-09-22 13:09:41.146511: W tensorflow/core/data/root_dataset.cc:266] Optimization loop failed: CANCELLED: Operation was cancelled\n"
     ]
    },
    {
     "name": "stdout",
     "output_type": "stream",
     "text": [
      "Data event 8, triggered at threshold 0.002381685551976158\n",
      "Generated event 8, triggered at threshold 0.0011623224686798518\n",
      "Data event 9, triggered at threshold 0.0027364399970746718\n",
      "Generated event 9, triggered at threshold 0.0012458833642950082\n",
      "Data event 10, triggered at threshold 0.0022739657523579274\n",
      "Generated event 10, triggered at threshold 0.0015702901247293774\n"
     ]
    },
    {
     "name": "stderr",
     "output_type": "stream",
     "text": [
      "2022-09-22 13:09:46.291603: W tensorflow/core/data/root_dataset.cc:266] Optimization loop failed: CANCELLED: Operation was cancelled\n"
     ]
    },
    {
     "name": "stdout",
     "output_type": "stream",
     "text": [
      "Data event 11, triggered at threshold 0.0013987131026472386\n",
      "Generated event 11, triggered at threshold 0.0006669919663030121\n",
      "Data event 12, triggered at threshold 0.002221946860939524\n",
      "Generated event 12, triggered at threshold 0.0019338917504552321\n",
      "Data event 13, triggered at threshold 0.001135733358343105\n",
      "Generated event 13, triggered at threshold 0.0012458833642950082\n",
      "Data event 14, triggered at threshold 0.0014314589375234786\n",
      "Generated event 14, triggered at threshold 0.003072112998861759\n",
      "Data event 15, triggered at threshold 0.0026738416158399465\n",
      "Generated event 15, triggered at threshold 0.0008804883581643465\n"
     ]
    },
    {
     "name": "stderr",
     "output_type": "stream",
     "text": [
      "2022-09-22 13:09:55.602308: W tensorflow/core/data/root_dataset.cc:266] Optimization loop failed: CANCELLED: Operation was cancelled\n"
     ]
    },
    {
     "name": "stdout",
     "output_type": "stream",
     "text": [
      "Data event 16, triggered at threshold 0.0014992684327860455\n",
      "Generated event 16, triggered at threshold 0.0022739657523579274\n"
     ]
    },
    {
     "name": "stderr",
     "output_type": "stream",
     "text": [
      "2022-09-22 13:09:57.993720: W tensorflow/core/data/root_dataset.cc:266] Optimization loop failed: CANCELLED: Operation was cancelled\n"
     ]
    },
    {
     "name": "stdout",
     "output_type": "stream",
     "text": [
      "Data event 17, triggered at threshold 0.0011895340673703195\n",
      "Generated event 17, triggered at threshold 0.0015702901247293774\n"
     ]
    },
    {
     "name": "stderr",
     "output_type": "stream",
     "text": [
      "2022-09-22 13:10:00.554493: W tensorflow/core/data/root_dataset.cc:266] Optimization loop failed: CANCELLED: Operation was cancelled\n"
     ]
    },
    {
     "name": "stdout",
     "output_type": "stream",
     "text": [
      "Data event 18, triggered at threshold 0.0011623224686798518\n",
      "Generated event 18, triggered at threshold 0.0009011018251665018\n"
     ]
    },
    {
     "name": "stderr",
     "output_type": "stream",
     "text": [
      "WARNING:NuRadioReco.readRNOGdata:reading in event 0/36 (0%) ETA: 0.0 minutes\n"
     ]
    },
    {
     "name": "stdout",
     "output_type": "stream",
     "text": [
      "Data event 0, triggered at threshold 0.0005805225516094895\n",
      "Generated event 0, triggered at threshold 0.001135733358343105\n"
     ]
    },
    {
     "name": "stderr",
     "output_type": "stream",
     "text": [
      "2022-09-22 13:10:08.652219: W tensorflow/core/data/root_dataset.cc:266] Optimization loop failed: CANCELLED: Operation was cancelled\n"
     ]
    },
    {
     "name": "stdout",
     "output_type": "stream",
     "text": [
      "Data event 1, triggered at threshold 0.0012750512407130128\n",
      "Generated event 1, triggered at threshold 0.0010843659686896108\n",
      "Data event 2, triggered at threshold 0.0011895340673703195\n",
      "Generated event 2, triggered at threshold 0.002171117945694505\n"
     ]
    },
    {
     "name": "stderr",
     "output_type": "stream",
     "text": [
      "2022-09-22 13:10:11.426464: W tensorflow/core/data/root_dataset.cc:266] Optimization loop failed: CANCELLED: Operation was cancelled\n"
     ]
    },
    {
     "name": "stdout",
     "output_type": "stream",
     "text": [
      "Data event 3, triggered at threshold 0.0016446761779946627\n",
      "Generated event 3, triggered at threshold 0.00212145178491063\n",
      "Data event 4, triggered at threshold 0.0012458833642950082\n",
      "Generated event 4, triggered at threshold 0.0014992684327860455\n",
      "Data event 5, triggered at threshold 0.0016070528182616384\n",
      "Generated event 5, triggered at threshold 0.0010353218432956617\n",
      "Data event 6, triggered at threshold 0.0010353218432956617\n",
      "Generated event 6, triggered at threshold 0.0008026433522257174\n"
     ]
    },
    {
     "name": "stderr",
     "output_type": "stream",
     "text": [
      "2022-09-22 13:10:19.218962: W tensorflow/core/data/root_dataset.cc:266] Optimization loop failed: CANCELLED: Operation was cancelled\n"
     ]
    },
    {
     "name": "stdout",
     "output_type": "stream",
     "text": [
      "Data event 7, triggered at threshold 0.0024945081352303164\n",
      "Generated event 7, triggered at threshold 0.0018041864093920718\n"
     ]
    },
    {
     "name": "stderr",
     "output_type": "stream",
     "text": [
      "2022-09-22 13:10:20.594783: W tensorflow/core/data/root_dataset.cc:266] Optimization loop failed: CANCELLED: Operation was cancelled\n"
     ]
    },
    {
     "name": "stdout",
     "output_type": "stream",
     "text": [
      "Data event 8, triggered at threshold 0.0016446761779946627\n",
      "Generated event 8, triggered at threshold 0.001762914118095948\n",
      "Data event 9, triggered at threshold 0.0019338917504552321\n",
      "Generated event 9, triggered at threshold 0.0025529080682395165\n",
      "Data event 10, triggered at threshold 0.0013049019780144017\n",
      "Generated event 10, triggered at threshold 0.0009221978823334322\n",
      "Data event 11, triggered at threshold 0.002221946860939524\n",
      "Generated event 11, triggered at threshold 0.0016831803533309566\n",
      "Data event 12, triggered at threshold 0.0010843659686896108\n",
      "Generated event 12, triggered at threshold 0.0015702901247293774\n",
      "Data event 13, triggered at threshold 0.0009437878277775381\n",
      "Generated event 13, triggered at threshold 0.00212145178491063\n"
     ]
    },
    {
     "name": "stderr",
     "output_type": "stream",
     "text": [
      "2022-09-22 13:10:31.565049: W tensorflow/core/data/root_dataset.cc:266] Optimization loop failed: CANCELLED: Operation was cancelled\n"
     ]
    },
    {
     "name": "stdout",
     "output_type": "stream",
     "text": [
      "Data event 14, triggered at threshold 0.0008214343584919422\n",
      "Generated event 14, triggered at threshold 0.002381685551976158\n",
      "Data event 15, triggered at threshold 0.0015702901247293774\n",
      "Generated event 15, triggered at threshold 0.0012750512407130128\n"
     ]
    },
    {
     "name": "stderr",
     "output_type": "stream",
     "text": [
      "2022-09-22 13:10:34.954534: W tensorflow/core/data/root_dataset.cc:266] Optimization loop failed: CANCELLED: Operation was cancelled\n"
     ]
    },
    {
     "name": "stdout",
     "output_type": "stream",
     "text": [
      "Data event 16, triggered at threshold 0.0018041864093920718\n",
      "Generated event 16, triggered at threshold 0.0013987131026472386\n"
     ]
    },
    {
     "ename": "KeyboardInterrupt",
     "evalue": "",
     "output_type": "error",
     "traceback": [
      "\u001b[0;31m---------------------------------------------------------------------------\u001b[0m",
      "\u001b[0;31mKeyboardInterrupt\u001b[0m                         Traceback (most recent call last)",
      "\u001b[0;32m/tmp/ipykernel_164851/297527464.py\u001b[0m in \u001b[0;36m<cell line: 29>\u001b[0;34m()\u001b[0m\n\u001b[1;32m     64\u001b[0m         \u001b[0mstation\u001b[0m \u001b[0;34m=\u001b[0m \u001b[0mevent\u001b[0m\u001b[0;34m.\u001b[0m\u001b[0mget_station\u001b[0m\u001b[0;34m(\u001b[0m\u001b[0mevent\u001b[0m\u001b[0;34m.\u001b[0m\u001b[0mget_station_ids\u001b[0m\u001b[0;34m(\u001b[0m\u001b[0;34m)\u001b[0m\u001b[0;34m[\u001b[0m\u001b[0;36m0\u001b[0m\u001b[0;34m]\u001b[0m\u001b[0;34m)\u001b[0m\u001b[0;34m\u001b[0m\u001b[0;34m\u001b[0m\u001b[0m\n\u001b[1;32m     65\u001b[0m         \u001b[0mchannel\u001b[0m \u001b[0;34m=\u001b[0m \u001b[0mstation\u001b[0m\u001b[0;34m.\u001b[0m\u001b[0mget_channel\u001b[0m\u001b[0;34m(\u001b[0m\u001b[0msurface_channel\u001b[0m\u001b[0;34m)\u001b[0m\u001b[0;34m\u001b[0m\u001b[0;34m\u001b[0m\u001b[0m\n\u001b[0;32m---> 66\u001b[0;31m         \u001b[0mgen_trace\u001b[0m \u001b[0;34m=\u001b[0m \u001b[0mget_generated_noise\u001b[0m\u001b[0;34m(\u001b[0m\u001b[0;34m)\u001b[0m\u001b[0;34m/\u001b[0m\u001b[0;36m1000\u001b[0m\u001b[0;34m\u001b[0m\u001b[0;34m\u001b[0m\u001b[0m\n\u001b[0m\u001b[1;32m     67\u001b[0m         \u001b[0mchannel\u001b[0m\u001b[0;34m.\u001b[0m\u001b[0mset_trace\u001b[0m\u001b[0;34m(\u001b[0m\u001b[0mgen_trace\u001b[0m\u001b[0;34m,\u001b[0m \u001b[0;36m3.2\u001b[0m\u001b[0;34m*\u001b[0m\u001b[0munits\u001b[0m\u001b[0;34m.\u001b[0m\u001b[0mGHz\u001b[0m\u001b[0;34m)\u001b[0m\u001b[0;34m\u001b[0m\u001b[0;34m\u001b[0m\u001b[0m\n\u001b[1;32m     68\u001b[0m         \u001b[0mstation\u001b[0m\u001b[0;34m.\u001b[0m\u001b[0madd_channel\u001b[0m\u001b[0;34m(\u001b[0m\u001b[0mchannel\u001b[0m\u001b[0;34m)\u001b[0m\u001b[0;34m\u001b[0m\u001b[0;34m\u001b[0m\u001b[0m\n",
      "\u001b[0;32m/tmp/ipykernel_164851/498493736.py\u001b[0m in \u001b[0;36mget_generated_noise\u001b[0;34m()\u001b[0m\n\u001b[1;32m      4\u001b[0m     \u001b[0mnoise\u001b[0m \u001b[0;34m=\u001b[0m \u001b[0mgenerator\u001b[0m\u001b[0;34m.\u001b[0m\u001b[0mpredict_on_batch\u001b[0m\u001b[0;34m(\u001b[0m\u001b[0minput_noise\u001b[0m\u001b[0;34m)\u001b[0m\u001b[0;34m\u001b[0m\u001b[0;34m\u001b[0m\u001b[0m\n\u001b[1;32m      5\u001b[0m     \u001b[0mnoise\u001b[0m \u001b[0;34m=\u001b[0m \u001b[0mnoise\u001b[0m\u001b[0;34m[\u001b[0m\u001b[0;34m:\u001b[0m\u001b[0;34m,\u001b[0m\u001b[0;34m:\u001b[0m\u001b[0;34m,\u001b[0m\u001b[0;36m0\u001b[0m\u001b[0;34m]\u001b[0m\u001b[0;34m\u001b[0m\u001b[0;34m\u001b[0m\u001b[0m\n\u001b[0;32m----> 6\u001b[0;31m     \u001b[0mnoise\u001b[0m \u001b[0;34m=\u001b[0m \u001b[0mnoise\u001b[0m\u001b[0;34m*\u001b[0m\u001b[0mdataset\u001b[0m\u001b[0;34m.\u001b[0m\u001b[0mstd\u001b[0m\u001b[0;34m(\u001b[0m\u001b[0;34m)\u001b[0m \u001b[0;34m+\u001b[0m \u001b[0mdataset\u001b[0m\u001b[0;34m.\u001b[0m\u001b[0mmean\u001b[0m\u001b[0;34m(\u001b[0m\u001b[0;34m)\u001b[0m\u001b[0;34m\u001b[0m\u001b[0;34m\u001b[0m\u001b[0m\n\u001b[0m\u001b[1;32m      7\u001b[0m     \u001b[0;32mreturn\u001b[0m \u001b[0mnoise\u001b[0m\u001b[0;34m[\u001b[0m\u001b[0;36m0\u001b[0m\u001b[0;34m]\u001b[0m\u001b[0;34m\u001b[0m\u001b[0;34m\u001b[0m\u001b[0m\n",
      "\u001b[0;32m/afs/ifh.de/group/radio/software/anaconda_p3/envs/jupyter/lib/python3.9/site-packages/numpy/core/_methods.py\u001b[0m in \u001b[0;36m_mean\u001b[0;34m(a, axis, dtype, out, keepdims, where)\u001b[0m\n\u001b[1;32m    177\u001b[0m             \u001b[0mis_float16_result\u001b[0m \u001b[0;34m=\u001b[0m \u001b[0;32mTrue\u001b[0m\u001b[0;34m\u001b[0m\u001b[0;34m\u001b[0m\u001b[0m\n\u001b[1;32m    178\u001b[0m \u001b[0;34m\u001b[0m\u001b[0m\n\u001b[0;32m--> 179\u001b[0;31m     \u001b[0mret\u001b[0m \u001b[0;34m=\u001b[0m \u001b[0mumr_sum\u001b[0m\u001b[0;34m(\u001b[0m\u001b[0marr\u001b[0m\u001b[0;34m,\u001b[0m \u001b[0maxis\u001b[0m\u001b[0;34m,\u001b[0m \u001b[0mdtype\u001b[0m\u001b[0;34m,\u001b[0m \u001b[0mout\u001b[0m\u001b[0;34m,\u001b[0m \u001b[0mkeepdims\u001b[0m\u001b[0;34m,\u001b[0m \u001b[0mwhere\u001b[0m\u001b[0;34m=\u001b[0m\u001b[0mwhere\u001b[0m\u001b[0;34m)\u001b[0m\u001b[0;34m\u001b[0m\u001b[0;34m\u001b[0m\u001b[0m\n\u001b[0m\u001b[1;32m    180\u001b[0m     \u001b[0;32mif\u001b[0m \u001b[0misinstance\u001b[0m\u001b[0;34m(\u001b[0m\u001b[0mret\u001b[0m\u001b[0;34m,\u001b[0m \u001b[0mmu\u001b[0m\u001b[0;34m.\u001b[0m\u001b[0mndarray\u001b[0m\u001b[0;34m)\u001b[0m\u001b[0;34m:\u001b[0m\u001b[0;34m\u001b[0m\u001b[0;34m\u001b[0m\u001b[0m\n\u001b[1;32m    181\u001b[0m         ret = um.true_divide(\n",
      "\u001b[0;31mKeyboardInterrupt\u001b[0m: "
     ]
    }
   ],
   "source": [
    "\n",
    "# detector\n",
    "det = detector.Detector(json_filename=\"RNO_G/RNO_season_2021.json\", antenna_by_depth=False)\n",
    "\n",
    "# RNOG data reader\n",
    "reader = readRNOGData.readRNOGData()\n",
    "\n",
    "# Power integration trigger (since diode is supposed to be ~ power)\n",
    "trigger = powerIntegration.triggerSimulator()\n",
    "trigger.begin()\n",
    "\n",
    "# trigger path, has a ~11 ns integration and bandpass\n",
    "trigger_integration_window = 11 * units.ns\n",
    "trigger_passband = [80*units.MHz, 180*units.MHz]\n",
    "bandpass = channelBandPassFilter()\n",
    "\n",
    "# test threshold range\n",
    "thresholds= np.logspace(-4,-2,200)[::-1]\n",
    "\n",
    "\n",
    "results = []\n",
    "\n",
    "# which channels to trigger on\n",
    "surface_channel = 13 #[12,13,14,15,16,17,18,19,20]\n",
    "\n",
    "# dummy_file = \"../../shallman/data/rno_g/forced_triggers/inbox/forced_triggers_station24_run117.root\"\n",
    "\n",
    "\n",
    "\n",
    "for rf_i, run_file in enumerate(file_names):\n",
    "    reader.begin(run_file)\n",
    "    for i, event in enumerate(reader.run()):\n",
    "        \n",
    "        # Data\n",
    "        station = event.get_station(event.get_station_ids()[0])\n",
    "        if not station.get_trigger('force_trigger').has_triggered():\n",
    "            print(\"I am here\")\n",
    "            continue\n",
    "        channel = station.get_channel(surface_channel)\n",
    "        trace = channel.get_trace()[0:512]\n",
    "        channel.set_trace(trace, 3.2*units.GHz)\n",
    "        station.add_channel(channel)\n",
    "        \n",
    "        bandpass.run(event, station, det, passband=trigger_passband,\n",
    "                     filter_type='butter', order=10, rp=None)\n",
    "    \n",
    "        triggered_any = False\n",
    "        triggered_threshold_any = 0\n",
    "        \n",
    "        for threshold in thresholds:\n",
    "            if not triggered_any:\n",
    "                trigger.run(event, station, det, threshold=threshold,\n",
    "                        integration_window=trigger_integration_window,\n",
    "                        triggered_channels=[surface_channel],\n",
    "                        trigger_name=\"power_integration_trigger\")\n",
    "                tt = station.get_trigger('power_integration_trigger')\n",
    "                # set to triggered\n",
    "                triggered_any = tt.has_triggered()\n",
    "                if tt.has_triggered():\n",
    "                    triggered_threshold_any = threshold\n",
    "            else:\n",
    "                break\n",
    "            \n",
    "        # Generated\n",
    "        station = event.get_station(event.get_station_ids()[0])\n",
    "        channel = station.get_channel(surface_channel)\n",
    "        gen_trace = get_generated_noise()/1000\n",
    "        channel.set_trace(gen_trace, 3.2*units.GHz)\n",
    "        station.add_channel(channel)\n",
    "        \n",
    "        bandpass.run(event, station, det, passband=trigger_passband,\n",
    "                     filter_type='butter', order=10, rp=None)\n",
    "    \n",
    "        triggered_any_gen = False\n",
    "        triggered_threshold_gen = 0\n",
    "        \n",
    "        for threshold in thresholds:\n",
    "            if not triggered_any_gen:\n",
    "                trigger.run(event, station, det, threshold=threshold,\n",
    "                        integration_window=trigger_integration_window,\n",
    "                        triggered_channels=[surface_channel],\n",
    "                        trigger_name=\"power_integration_trigger\")\n",
    "                tt = station.get_trigger('power_integration_trigger')\n",
    "                # set to triggered\n",
    "                triggered_any_gen = tt.has_triggered()\n",
    "                if tt.has_triggered():\n",
    "                    triggered_threshold_gen = threshold\n",
    "            else:\n",
    "                break\n",
    "        \n",
    "        \n",
    "        \n",
    "        print(f\"Data event {i}, triggered at threshold {triggered_threshold_any}\")\n",
    "        print(f\"Generated event {i}, triggered at threshold {triggered_threshold_gen}\")\n",
    "        result = {\"station_number\": event.get_station_ids()[0],\n",
    "              \"run_number\": event.get_run_number(),\n",
    "              \"event_number\": event.get_id(),\n",
    "              \"event_i\": i,\n",
    "              \"threshold\": triggered_threshold_any, \"threshold_generator\": triggered_threshold_gen,\n",
    "              \"triggered\": triggered_any}\n",
    "        results.append(result)\n",
    "        \n",
    "# Go back to original directory\n",
    "os.chdir(owd)\n",
    "df = pd.DataFrame(results)\n",
    "df.to_hdf(\"trigger_threshold_scan.hdf5\", \"data\")\n"
   ]
  },
  {
   "cell_type": "code",
   "execution_count": null,
   "metadata": {},
   "outputs": [],
   "source": []
  },
  {
   "cell_type": "code",
   "execution_count": 10,
   "metadata": {},
   "outputs": [
    {
     "ename": "FileNotFoundError",
     "evalue": "File trigger_threshold_scan.hdf5 does not exist",
     "output_type": "error",
     "traceback": [
      "\u001b[0;31m---------------------------------------------------------------------------\u001b[0m",
      "\u001b[0;31mFileNotFoundError\u001b[0m                         Traceback (most recent call last)",
      "\u001b[0;32m/tmp/ipykernel_164851/858162972.py\u001b[0m in \u001b[0;36m<cell line: 1>\u001b[0;34m()\u001b[0m\n\u001b[0;32m----> 1\u001b[0;31m \u001b[0mdata\u001b[0m \u001b[0;34m=\u001b[0m \u001b[0mpd\u001b[0m\u001b[0;34m.\u001b[0m\u001b[0mread_hdf\u001b[0m\u001b[0;34m(\u001b[0m\u001b[0;34m\"trigger_threshold_scan.hdf5\"\u001b[0m\u001b[0;34m)\u001b[0m\u001b[0;34m\u001b[0m\u001b[0;34m\u001b[0m\u001b[0m\n\u001b[0m\u001b[1;32m      2\u001b[0m \u001b[0;34m\u001b[0m\u001b[0m\n\u001b[1;32m      3\u001b[0m \u001b[0mthresholds\u001b[0m \u001b[0;34m=\u001b[0m \u001b[0mnp\u001b[0m\u001b[0;34m.\u001b[0m\u001b[0mlogspace\u001b[0m\u001b[0;34m(\u001b[0m\u001b[0;34m-\u001b[0m\u001b[0;36m4\u001b[0m\u001b[0;34m,\u001b[0m\u001b[0;34m-\u001b[0m\u001b[0;36m2\u001b[0m\u001b[0;34m,\u001b[0m\u001b[0;36m200\u001b[0m\u001b[0;34m)\u001b[0m\u001b[0;34m\u001b[0m\u001b[0;34m\u001b[0m\u001b[0m\n\u001b[1;32m      4\u001b[0m \u001b[0;34m\u001b[0m\u001b[0m\n\u001b[1;32m      5\u001b[0m \u001b[0mn_triggers\u001b[0m \u001b[0;34m=\u001b[0m \u001b[0mnp\u001b[0m\u001b[0;34m.\u001b[0m\u001b[0mzeros_like\u001b[0m\u001b[0;34m(\u001b[0m\u001b[0mthresholds\u001b[0m\u001b[0;34m)\u001b[0m\u001b[0;34m\u001b[0m\u001b[0;34m\u001b[0m\u001b[0m\n",
      "\u001b[0;32m/afs/ifh.de/group/radio/software/anaconda_p3/envs/jupyter/lib/python3.9/site-packages/pandas/io/pytables.py\u001b[0m in \u001b[0;36mread_hdf\u001b[0;34m(path_or_buf, key, mode, errors, where, start, stop, columns, iterator, chunksize, **kwargs)\u001b[0m\n\u001b[1;32m    395\u001b[0m \u001b[0;34m\u001b[0m\u001b[0m\n\u001b[1;32m    396\u001b[0m         \u001b[0;32mif\u001b[0m \u001b[0;32mnot\u001b[0m \u001b[0mexists\u001b[0m\u001b[0;34m:\u001b[0m\u001b[0;34m\u001b[0m\u001b[0;34m\u001b[0m\u001b[0m\n\u001b[0;32m--> 397\u001b[0;31m             \u001b[0;32mraise\u001b[0m \u001b[0mFileNotFoundError\u001b[0m\u001b[0;34m(\u001b[0m\u001b[0;34mf\"File {path_or_buf} does not exist\"\u001b[0m\u001b[0;34m)\u001b[0m\u001b[0;34m\u001b[0m\u001b[0;34m\u001b[0m\u001b[0m\n\u001b[0m\u001b[1;32m    398\u001b[0m \u001b[0;34m\u001b[0m\u001b[0m\n\u001b[1;32m    399\u001b[0m         \u001b[0mstore\u001b[0m \u001b[0;34m=\u001b[0m \u001b[0mHDFStore\u001b[0m\u001b[0;34m(\u001b[0m\u001b[0mpath_or_buf\u001b[0m\u001b[0;34m,\u001b[0m \u001b[0mmode\u001b[0m\u001b[0;34m=\u001b[0m\u001b[0mmode\u001b[0m\u001b[0;34m,\u001b[0m \u001b[0merrors\u001b[0m\u001b[0;34m=\u001b[0m\u001b[0merrors\u001b[0m\u001b[0;34m,\u001b[0m \u001b[0;34m**\u001b[0m\u001b[0mkwargs\u001b[0m\u001b[0;34m)\u001b[0m\u001b[0;34m\u001b[0m\u001b[0;34m\u001b[0m\u001b[0m\n",
      "\u001b[0;31mFileNotFoundError\u001b[0m: File trigger_threshold_scan.hdf5 does not exist"
     ]
    }
   ],
   "source": [
    "data = pd.read_hdf(\"trigger_threshold_scan.hdf5\")\n",
    "\n",
    "thresholds = np.logspace(-4,-2,200)\n",
    "\n",
    "n_triggers = np.zeros_like(thresholds)\n",
    "n_triggers_gen = np.zeros_like(thresholds)\n",
    "\n",
    "for i, thres in enumerate(thresholds):\n",
    "    n_triggers[i] = np.sum(data.threshold>thres)\n",
    "    n_triggers_gen[i] = np.sum(data.threshold_generator>thres)\n",
    "\n",
    "\n",
    "trace_length = 512\n",
    "sampling_rate_ghz = 3.2\n",
    "plt.plot(thresholds, n_triggers/len(data.threshold), label = \"Data\")\n",
    "plt.plot(thresholds, n_triggers_gen/len(data.threshold_generator), label = \"Generated\")\n",
    "plt.xlabel(\"Trigger threshold\")\n",
    "plt.ylabel(\"Triggered event fraction\")\n",
    "plt.legend()\n",
    "plt.semilogx()"
   ]
  },
  {
   "cell_type": "code",
   "execution_count": 9,
   "metadata": {},
   "outputs": [],
   "source": [
    "noise = np.random.randn(len(data), 128)\n",
    "noise = np.expand_dims(noise, axis=-1) \n",
    "generated_signals = generator.predict_on_batch(noise)\n",
    "generated_signals = generated_signals[:,:,0]"
   ]
  },
  {
   "cell_type": "code",
   "execution_count": 12,
   "metadata": {},
   "outputs": [
    {
     "data": {
      "image/png": "[encoded data removed]",
      "text/plain": [
       "<Figure size 432x288 with 1 Axes>"
      ]
     },
     "metadata": {
      "needs_background": "light"
     },
     "output_type": "display_data"
    }
   ],
   "source": [
    "analyze.avg_frequencies(data, generated_signals)"
   ]
  },
  {
   "cell_type": "code",
   "execution_count": 13,
   "metadata": {},
   "outputs": [
    {
     "data": {
      "image/png": "[encoded data removed]",
      "text/plain": [
       "<Figure size 432x288 with 1 Axes>"
      ]
     },
     "metadata": {
      "needs_background": "light"
     },
     "output_type": "display_data"
    }
   ],
   "source": [
    "analyze.quantile_frequencies(data, generated_signals)"
   ]
  },
  {
   "cell_type": "code",
   "execution_count": null,
   "metadata": {},
   "outputs": [],
   "source": []
  }
 ],
 "metadata": {
  "kernelspec": {
   "display_name": "Python [conda env:anaconda_p3-jupyter]",
   "language": "python",
   "name": "conda-env-anaconda_p3-jupyter-py"
  },
  "language_info": {
   "codemirror_mode": {
    "name": "ipython",
    "version": 3
   },
   "file_extension": ".py",
   "mimetype": "text/x-python",
   "name": "python",
   "nbconvert_exporter": "python",
   "pygments_lexer": "ipython3",
   "version": "3.9.12"
  },
  "vscode": {
   "interpreter": {
    "hash": "5637242735df105300a10f363d5c0d18b4b77d7105ef62addc8c3980e22cd89c"
   }
  }
 },
 "nbformat": 4,
 "nbformat_minor": 4
}
