{
 "cells": [
  {
   "cell_type": "markdown",
   "metadata": {},
   "source": [
    "# Imports\n"
   ]
  },
  {
   "cell_type": "code",
   "execution_count": 6,
   "metadata": {},
   "outputs": [],
   "source": [
    "from threshold_analysis import threshold\n",
    "from threshold_analysis import analyze_threshold\n",
    "import numpy as np\n",
    "import pandas as pd\n",
    "import matplotlib.pyplot as plt\n",
    "import glob, os\n"
   ]
  },
  {
   "cell_type": "code",
   "execution_count": 4,
   "metadata": {},
   "outputs": [
    {
     "name": "stderr",
     "output_type": "stream",
     "text": [
      "2022-10-11 11:17:40.012944: W tensorflow/stream_executor/platform/default/dso_loader.cc:64] Could not load dynamic library 'libcuda.so.1'; dlerror: libcuda.so.1: cannot open shared object file: No such file or directory\n",
      "2022-10-11 11:17:40.013088: W tensorflow/stream_executor/cuda/cuda_driver.cc:263] failed call to cuInit: UNKNOWN ERROR (303)\n",
      "2022-10-11 11:17:40.013137: I tensorflow/stream_executor/cuda/cuda_diagnostics.cc:156] kernel driver does not appear to be running on this host (wgs3e.zeuthen.desy.de): /proc/driver/nvidia/version does not exist\n",
      "2022-10-11 11:17:40.014080: I tensorflow/core/platform/cpu_feature_guard.cc:193] This TensorFlow binary is optimized with oneAPI Deep Neural Network Library (oneDNN) to use the following CPU instructions in performance-critical operations:  AVX2 AVX512F FMA\n",
      "To enable them in other operations, rebuild TensorFlow with the appropriate compiler flags.\n",
      "WARNING:tensorflow:No training configuration found in save file, so the model was *not* compiled. Compile it manually.\n",
      "WARNING:NuRadioReco.detector:loading detector description from /afs/ifh.de/group/radio/software/anaconda_p3/envs/jupyter/lib/python3.9/site-packages/NuRadioReco/detector/RNO_G/RNO_season_2021.json\n",
      "WARNING:NuRadioReco.readRNOGdata:reading in event 0/19 (0%) ETA: 0.0 minutes\n"
     ]
    },
    {
     "name": "stdout",
     "output_type": "stream",
     "text": [
      "Data event 0, triggered at threshold 0.006905513520162331\n",
      "Generated event 0, triggered at threshold 0.008214343584919423\n",
      "Data event 1, triggered at threshold 0.005805225516094896\n",
      "Generated event 1, triggered at threshold 0.012458833642950081\n",
      "Data event 2, triggered at threshold 0.007149428986597577\n",
      "Generated event 2, triggered at threshold 0.008504489341802677\n",
      "Data event 3, triggered at threshold 0.007149428986597577\n",
      "Generated event 3, triggered at threshold 0.009437878277775381\n",
      "Data event 4, triggered at threshold 0.00410265810582719\n",
      "Generated event 4, triggered at threshold 0.010473708979594498\n",
      "Data event 5, triggered at threshold 0.007401959996915637\n",
      "Generated event 5, triggered at threshold 0.00644236350872137\n",
      "Data event 6, triggered at threshold 0.00410265810582719\n",
      "Generated event 6, triggered at threshold 0.007149428986597577\n",
      "Data event 7, triggered at threshold 0.0036969127071950244\n",
      "Generated event 7, triggered at threshold 0.007934096665797492\n",
      "Data event 8, triggered at threshold 0.004397603609302721\n",
      "Generated event 8, triggered at threshold 0.006669919663030122\n",
      "Data event 9, triggered at threshold 0.0054158713780794706\n",
      "Generated event 9, triggered at threshold 0.01011637979766207\n",
      "Data event 10, triggered at threshold 0.006010276782070382\n",
      "Generated event 10, triggered at threshold 0.015343684089300116\n",
      "Data event 11, triggered at threshold 0.0054158713780794706\n",
      "Generated event 11, triggered at threshold 0.01011637979766207\n",
      "Data event 12, triggered at threshold 0.004713753134116724\n",
      "Generated event 12, triggered at threshold 0.012458833642950081\n",
      "Data event 13, triggered at threshold 0.00410265810582719\n",
      "Generated event 13, triggered at threshold 0.008504489341802677\n",
      "Data event 14, triggered at threshold 0.00410265810582719\n",
      "Generated event 14, triggered at threshold 0.007663410868007455\n",
      "Data event 15, triggered at threshold 0.004713753134116724\n",
      "Generated event 15, triggered at threshold 0.012033778407775893\n",
      "Data event 16, triggered at threshold 0.004880251583654433\n",
      "Generated event 16, triggered at threshold 0.01011637979766207\n",
      "Data event 17, triggered at threshold 0.005805225516094896\n",
      "Generated event 17, triggered at threshold 0.010843659686896098\n",
      "Data event 18, triggered at threshold 0.0034489622604057598\n",
      "Generated event 18, triggered at threshold 0.01011637979766207\n"
     ]
    },
    {
     "name": "stderr",
     "output_type": "stream",
     "text": [
      "WARNING:NuRadioReco.readRNOGdata:reading in event 0/36 (0%) ETA: 0.0 minutes\n"
     ]
    },
    {
     "name": "stdout",
     "output_type": "stream",
     "text": [
      "Data event 0, triggered at threshold 0.005607169938205458\n",
      "Generated event 0, triggered at threshold 0.010843659686896098\n",
      "Data event 1, triggered at threshold 0.005805225516094896\n",
      "Generated event 1, triggered at threshold 0.011226677735108135\n",
      "Data event 2, triggered at threshold 0.004713753134116724\n",
      "Generated event 2, triggered at threshold 0.008804883581643464\n",
      "Data event 3, triggered at threshold 0.005607169938205458\n",
      "Generated event 3, triggered at threshold 0.011226677735108135\n",
      "Data event 4, triggered at threshold 0.005805225516094896\n",
      "Generated event 4, triggered at threshold 0.005607169938205458\n",
      "Data event 5, triggered at threshold 0.005805225516094896\n",
      "Generated event 5, triggered at threshold 0.009437878277775381\n",
      "Data event 6, triggered at threshold 0.004552935074866948\n",
      "Generated event 6, triggered at threshold 0.011226677735108135\n",
      "Data event 7, triggered at threshold 0.007149428986597577\n",
      "Generated event 7, triggered at threshold 0.010843659686896098\n",
      "Data event 8, triggered at threshold 0.005607169938205458\n",
      "Generated event 8, triggered at threshold 0.012033778407775893\n",
      "Data event 9, triggered at threshold 0.00644236350872137\n",
      "Generated event 9, triggered at threshold 0.009115888299750819\n",
      "Data event 10, triggered at threshold 0.005231099308056258\n",
      "Generated event 10, triggered at threshold 0.013354515629298987\n",
      "Data event 11, triggered at threshold 0.006010276782070382\n",
      "Generated event 11, triggered at threshold 0.007663410868007455\n",
      "Data event 12, triggered at threshold 0.00410265810582719\n",
      "Generated event 12, triggered at threshold 0.008504489341802677\n",
      "Data event 13, triggered at threshold 0.004397603609302721\n",
      "Generated event 13, triggered at threshold 0.008214343584919423\n",
      "Data event 14, triggered at threshold 0.0033312947879346735\n",
      "Generated event 14, triggered at threshold 0.008214343584919423\n",
      "Data event 15, triggered at threshold 0.00410265810582719\n",
      "Generated event 15, triggered at threshold 0.008804883581643464\n",
      "Data event 16, triggered at threshold 0.007149428986597577\n",
      "Generated event 16, triggered at threshold 0.010843659686896098\n",
      "Data event 17, triggered at threshold 0.004880251583654433\n",
      "Generated event 17, triggered at threshold 0.01289890261253308\n",
      "Data event 18, triggered at threshold 0.0054158713780794706\n",
      "Generated event 18, triggered at threshold 0.011226677735108135\n",
      "Data event 19, triggered at threshold 0.0054158713780794706\n",
      "Generated event 19, triggered at threshold 0.010473708979594498\n",
      "Data event 20, triggered at threshold 0.00505263106533568\n",
      "Generated event 20, triggered at threshold 0.008504489341802677\n",
      "Data event 21, triggered at threshold 0.0036969127071950244\n",
      "Generated event 21, triggered at threshold 0.005805225516094896\n",
      "Data event 22, triggered at threshold 0.004397603609302721\n",
      "Generated event 22, triggered at threshold 0.008804883581643464\n",
      "Data event 23, triggered at threshold 0.006010276782070382\n",
      "Generated event 23, triggered at threshold 0.01011637979766207\n",
      "Data event 24, triggered at threshold 0.005607169938205458\n",
      "Generated event 24, triggered at threshold 0.01011637979766207\n",
      "Data event 25, triggered at threshold 0.0042475715525368985\n",
      "Generated event 25, triggered at threshold 0.009115888299750819\n",
      "Data event 26, triggered at threshold 0.005607169938205458\n",
      "Generated event 26, triggered at threshold 0.006222570836730231\n",
      "Data event 27, triggered at threshold 0.006010276782070382\n",
      "Generated event 27, triggered at threshold 0.006905513520162331\n",
      "Data event 28, triggered at threshold 0.005231099308056258\n",
      "Generated event 28, triggered at threshold 0.009437878277775381\n",
      "Data event 29, triggered at threshold 0.005805225516094896\n",
      "Generated event 29, triggered at threshold 0.007149428986597577\n",
      "Data event 30, triggered at threshold 0.007401959996915637\n",
      "Generated event 30, triggered at threshold 0.011226677735108135\n",
      "Data event 31, triggered at threshold 0.004713753134116724\n",
      "Generated event 31, triggered at threshold 0.011226677735108135\n",
      "Data event 32, triggered at threshold 0.00505263106533568\n",
      "Generated event 32, triggered at threshold 0.011623224686798519\n",
      "Data event 33, triggered at threshold 0.00505263106533568\n",
      "Generated event 33, triggered at threshold 0.008214343584919423\n",
      "Data event 34, triggered at threshold 0.005231099308056258\n",
      "Generated event 34, triggered at threshold 0.015885651294280528\n",
      "Data event 35, triggered at threshold 0.006905513520162331\n",
      "Generated event 35, triggered at threshold 0.007663410868007455\n"
     ]
    },
    {
     "name": "stderr",
     "output_type": "stream",
     "text": [
      "WARNING:NuRadioReco.readRNOGdata:reading in event 0/19 (0%) ETA: 0.0 minutes\n"
     ]
    },
    {
     "name": "stdout",
     "output_type": "stream",
     "text": [
      "Data event 0, triggered at threshold 0.005805225516094896\n",
      "Generated event 0, triggered at threshold 0.007401959996915637\n",
      "Data event 1, triggered at threshold 0.00644236350872137\n",
      "Generated event 1, triggered at threshold 0.009437878277775381\n",
      "Data event 2, triggered at threshold 0.005805225516094896\n",
      "Generated event 2, triggered at threshold 0.012033778407775893\n",
      "Data event 3, triggered at threshold 0.008214343584919423\n",
      "Generated event 3, triggered at threshold 0.012033778407775893\n",
      "Data event 4, triggered at threshold 0.00644236350872137\n",
      "Generated event 4, triggered at threshold 0.007934096665797492\n",
      "Data event 5, triggered at threshold 0.006222570836730231\n",
      "Generated event 5, triggered at threshold 0.01011637979766207\n",
      "Data event 6, triggered at threshold 0.00644236350872137\n",
      "Generated event 6, triggered at threshold 0.014314589375234785\n",
      "Data event 7, triggered at threshold 0.00505263106533568\n",
      "Generated event 7, triggered at threshold 0.01289890261253308\n",
      "Data event 8, triggered at threshold 0.00505263106533568\n",
      "Generated event 8, triggered at threshold 0.008504489341802677\n",
      "Data event 9, triggered at threshold 0.004880251583654433\n",
      "Generated event 9, triggered at threshold 0.009115888299750819\n",
      "Data event 10, triggered at threshold 0.004552935074866948\n",
      "Generated event 10, triggered at threshold 0.009437878277775381\n",
      "Data event 11, triggered at threshold 0.0054158713780794706\n",
      "Generated event 11, triggered at threshold 0.012458833642950081\n",
      "Data event 12, triggered at threshold 0.006669919663030122\n",
      "Generated event 12, triggered at threshold 0.010473708979594498\n",
      "Data event 13, triggered at threshold 0.005805225516094896\n",
      "Generated event 13, triggered at threshold 0.008504489341802677\n",
      "Data event 14, triggered at threshold 0.004552935074866948\n",
      "Generated event 14, triggered at threshold 0.00644236350872137\n",
      "Data event 15, triggered at threshold 0.005607169938205458\n",
      "Generated event 15, triggered at threshold 0.012458833642950081\n",
      "Data event 16, triggered at threshold 0.004880251583654433\n",
      "Generated event 16, triggered at threshold 0.009115888299750819\n",
      "Data event 17, triggered at threshold 0.0054158713780794706\n",
      "Generated event 17, triggered at threshold 0.009437878277775381\n",
      "Data event 18, triggered at threshold 0.004713753134116724\n",
      "Generated event 18, triggered at threshold 0.012033778407775893\n"
     ]
    },
    {
     "name": "stderr",
     "output_type": "stream",
     "text": [
      "WARNING:NuRadioReco.readRNOGdata:reading in event 0/18 (0%) ETA: 0.0 minutes\n"
     ]
    },
    {
     "name": "stdout",
     "output_type": "stream",
     "text": [
      "Data event 0, triggered at threshold 0.00505263106533568\n",
      "Generated event 0, triggered at threshold 0.009115888299750819\n",
      "Data event 1, triggered at threshold 0.0042475715525368985\n",
      "Generated event 1, triggered at threshold 0.010473708979594498\n",
      "Data event 2, triggered at threshold 0.00505263106533568\n",
      "Generated event 2, triggered at threshold 0.009115888299750819\n",
      "Data event 3, triggered at threshold 0.00505263106533568\n",
      "Generated event 3, triggered at threshold 0.01011637979766207\n",
      "Data event 4, triggered at threshold 0.004880251583654433\n",
      "Generated event 4, triggered at threshold 0.011623224686798519\n",
      "Data event 5, triggered at threshold 0.00505263106533568\n",
      "Generated event 5, triggered at threshold 0.008504489341802677\n",
      "Data event 6, triggered at threshold 0.006010276782070382\n",
      "Generated event 6, triggered at threshold 0.008504489341802677\n",
      "Data event 7, triggered at threshold 0.010473708979594498\n",
      "Generated event 7, triggered at threshold 0.011623224686798519\n",
      "Data event 8, triggered at threshold 0.005607169938205458\n",
      "Generated event 8, triggered at threshold 0.009771241535346501\n",
      "Data event 9, triggered at threshold 0.013354515629298987\n",
      "Generated event 9, triggered at threshold 0.008804883581643464\n",
      "Data event 10, triggered at threshold 0.024094035602395245\n",
      "Generated event 10, triggered at threshold 0.007149428986597577\n",
      "Data event 11, triggered at threshold 0.010473708979594498\n",
      "Generated event 11, triggered at threshold 0.01289890261253308\n",
      "Data event 12, triggered at threshold 0.014820207057988586\n",
      "Generated event 12, triggered at threshold 0.007149428986597577\n",
      "Data event 13, triggered at threshold 0.005805225516094896\n",
      "Generated event 13, triggered at threshold 0.013354515629298987\n",
      "Data event 14, triggered at threshold 0.0054158713780794706\n",
      "Generated event 14, triggered at threshold 0.011226677735108135\n",
      "Data event 15, triggered at threshold 0.007401959996915637\n",
      "Generated event 15, triggered at threshold 0.013354515629298987\n",
      "Data event 16, triggered at threshold 0.006010276782070382\n",
      "Generated event 16, triggered at threshold 0.008504489341802677\n",
      "Data event 17, triggered at threshold 0.006905513520162331\n",
      "Generated event 17, triggered at threshold 0.007401959996915637\n"
     ]
    },
    {
     "name": "stderr",
     "output_type": "stream",
     "text": [
      "WARNING:NuRadioReco.readRNOGdata:reading in event 0/32 (0%) ETA: 0.0 minutes\n"
     ]
    },
    {
     "name": "stdout",
     "output_type": "stream",
     "text": [
      "Data event 0, triggered at threshold 0.004713753134116724\n",
      "Generated event 0, triggered at threshold 0.014314589375234785\n",
      "Data event 1, triggered at threshold 0.005231099308056258\n",
      "Generated event 1, triggered at threshold 0.010473708979594498\n",
      "Data event 2, triggered at threshold 0.005805225516094896\n",
      "Generated event 2, triggered at threshold 0.009771241535346501\n",
      "Data event 3, triggered at threshold 0.004713753134116724\n",
      "Generated event 3, triggered at threshold 0.013354515629298987\n",
      "Data event 4, triggered at threshold 0.006905513520162331\n",
      "Generated event 4, triggered at threshold 0.01011637979766207\n",
      "Data event 5, triggered at threshold 0.003962688638701479\n",
      "Generated event 5, triggered at threshold 0.009771241535346501\n",
      "Data event 6, triggered at threshold 0.006669919663030122\n",
      "Generated event 6, triggered at threshold 0.009771241535346501\n",
      "Data event 7, triggered at threshold 0.004880251583654433\n",
      "Generated event 7, triggered at threshold 0.008214343584919423\n",
      "Data event 8, triggered at threshold 0.005805225516094896\n",
      "Generated event 8, triggered at threshold 0.013354515629298987\n",
      "Data event 9, triggered at threshold 0.005805225516094896\n",
      "Generated event 9, triggered at threshold 0.007401959996915637\n",
      "Data event 10, triggered at threshold 0.00505263106533568\n",
      "Generated event 10, triggered at threshold 0.011226677735108135\n",
      "Data event 11, triggered at threshold 0.005607169938205458\n",
      "Generated event 11, triggered at threshold 0.013354515629298987\n",
      "Data event 12, triggered at threshold 0.00505263106533568\n",
      "Generated event 12, triggered at threshold 0.012033778407775893\n",
      "Data event 13, triggered at threshold 0.004880251583654433\n",
      "Generated event 13, triggered at threshold 0.007401959996915637\n",
      "Data event 14, triggered at threshold 0.004713753134116724\n",
      "Generated event 14, triggered at threshold 0.008214343584919423\n",
      "Data event 15, triggered at threshold 0.0042475715525368985\n",
      "Generated event 15, triggered at threshold 0.009115888299750819\n",
      "Data event 16, triggered at threshold 0.004880251583654433\n",
      "Generated event 16, triggered at threshold 0.011226677735108135\n",
      "Data event 17, triggered at threshold 0.007934096665797492\n",
      "Generated event 17, triggered at threshold 0.008504489341802677\n",
      "Data event 18, triggered at threshold 0.006010276782070382\n",
      "Generated event 18, triggered at threshold 0.010843659686896098\n",
      "Data event 19, triggered at threshold 0.005231099308056258\n",
      "Generated event 19, triggered at threshold 0.011623224686798519\n",
      "Data event 20, triggered at threshold 0.004552935074866948\n",
      "Generated event 20, triggered at threshold 0.00644236350872137\n",
      "Data event 21, triggered at threshold 0.004397603609302721\n",
      "Generated event 21, triggered at threshold 0.008804883581643464\n",
      "Data event 22, triggered at threshold 0.006222570836730231\n",
      "Generated event 22, triggered at threshold 0.007663410868007455\n",
      "Data event 23, triggered at threshold 0.00410265810582719\n",
      "Generated event 23, triggered at threshold 0.012033778407775893\n",
      "Data event 24, triggered at threshold 0.007934096665797492\n",
      "Generated event 24, triggered at threshold 0.010843659686896098\n",
      "Data event 25, triggered at threshold 0.005231099308056258\n",
      "Generated event 25, triggered at threshold 0.01011637979766207\n",
      "Data event 26, triggered at threshold 0.003962688638701479\n",
      "Generated event 26, triggered at threshold 0.008214343584919423\n",
      "Data event 27, triggered at threshold 0.0054158713780794706\n",
      "Generated event 27, triggered at threshold 0.01289890261253308\n",
      "Data event 28, triggered at threshold 0.005231099308056258\n",
      "Generated event 28, triggered at threshold 0.007401959996915637\n",
      "Data event 29, triggered at threshold 0.00410265810582719\n",
      "Generated event 29, triggered at threshold 0.009437878277775381\n",
      "Data event 30, triggered at threshold 0.005805225516094896\n",
      "Generated event 30, triggered at threshold 0.007149428986597577\n",
      "Data event 31, triggered at threshold 0.006905513520162331\n",
      "Generated event 31, triggered at threshold 0.009115888299750819\n"
     ]
    },
    {
     "name": "stderr",
     "output_type": "stream",
     "text": [
      "WARNING:NuRadioReco.readRNOGdata:reading in event 0/17 (0%) ETA: 0.0 minutes\n"
     ]
    },
    {
     "name": "stdout",
     "output_type": "stream",
     "text": [
      "Data event 0, triggered at threshold 0.004713753134116724\n",
      "Generated event 0, triggered at threshold 0.009437878277775381\n",
      "Data event 1, triggered at threshold 0.006222570836730231\n",
      "Generated event 1, triggered at threshold 0.011623224686798519\n",
      "Data event 2, triggered at threshold 0.006010276782070382\n",
      "Generated event 2, triggered at threshold 0.007401959996915637\n",
      "Data event 3, triggered at threshold 0.006010276782070382\n",
      "Generated event 3, triggered at threshold 0.009115888299750819\n",
      "Data event 4, triggered at threshold 0.004713753134116724\n",
      "Generated event 4, triggered at threshold 0.011226677735108135\n",
      "Data event 5, triggered at threshold 0.0054158713780794706\n",
      "Generated event 5, triggered at threshold 0.007663410868007455\n",
      "Data event 6, triggered at threshold 0.005607169938205458\n",
      "Generated event 6, triggered at threshold 0.006905513520162331\n",
      "Data event 7, triggered at threshold 0.005607169938205458\n",
      "Generated event 7, triggered at threshold 0.006905513520162331\n",
      "Data event 8, triggered at threshold 0.006222570836730231\n",
      "Generated event 8, triggered at threshold 0.007401959996915637\n",
      "Data event 9, triggered at threshold 0.00505263106533568\n",
      "Generated event 9, triggered at threshold 0.012033778407775893\n",
      "Data event 10, triggered at threshold 0.004397603609302721\n",
      "Generated event 10, triggered at threshold 0.010473708979594498\n",
      "Data event 11, triggered at threshold 0.006010276782070382\n",
      "Generated event 11, triggered at threshold 0.011226677735108135\n",
      "Data event 12, triggered at threshold 0.007663410868007455\n",
      "Generated event 12, triggered at threshold 0.012033778407775893\n",
      "Data event 13, triggered at threshold 0.006010276782070382\n",
      "Generated event 13, triggered at threshold 0.009115888299750819\n",
      "Data event 14, triggered at threshold 0.004713753134116724\n",
      "Generated event 14, triggered at threshold 0.007401959996915637\n",
      "Data event 15, triggered at threshold 0.006669919663030122\n",
      "Generated event 15, triggered at threshold 0.008804883581643464\n",
      "Data event 16, triggered at threshold 0.00505263106533568\n",
      "Generated event 16, triggered at threshold 0.007149428986597577\n"
     ]
    },
    {
     "name": "stderr",
     "output_type": "stream",
     "text": [
      "WARNING:NuRadioReco.readRNOGdata:reading in event 0/1 (0%) ETA: 0.0 minutes\n"
     ]
    },
    {
     "name": "stdout",
     "output_type": "stream",
     "text": [
      "Data event 0, triggered at threshold 0.006669919663030122\n",
      "Generated event 0, triggered at threshold 0.010843659686896098\n"
     ]
    },
    {
     "name": "stderr",
     "output_type": "stream",
     "text": [
      "WARNING:NuRadioReco.readRNOGdata:reading in event 0/19 (0%) ETA: 0.0 minutes\n"
     ]
    },
    {
     "name": "stdout",
     "output_type": "stream",
     "text": [
      "Data event 0, triggered at threshold 0.004552935074866948\n",
      "Generated event 0, triggered at threshold 0.007663410868007455\n",
      "Data event 1, triggered at threshold 0.004552935074866948\n",
      "Generated event 1, triggered at threshold 0.006669919663030122\n",
      "Data event 2, triggered at threshold 0.006222570836730231\n",
      "Generated event 2, triggered at threshold 0.010473708979594498\n",
      "Data event 3, triggered at threshold 0.006010276782070382\n",
      "Generated event 3, triggered at threshold 0.011226677735108135\n",
      "Data event 4, triggered at threshold 0.00644236350872137\n",
      "Generated event 4, triggered at threshold 0.008504489341802677\n",
      "Data event 5, triggered at threshold 0.004397603609302721\n",
      "Generated event 5, triggered at threshold 0.011623224686798519\n",
      "Data event 6, triggered at threshold 0.00644236350872137\n",
      "Generated event 6, triggered at threshold 0.007401959996915637\n",
      "Data event 7, triggered at threshold 0.0054158713780794706\n",
      "Generated event 7, triggered at threshold 0.01011637979766207\n",
      "Data event 8, triggered at threshold 0.004397603609302721\n",
      "Generated event 8, triggered at threshold 0.009437878277775381\n",
      "Data event 9, triggered at threshold 0.003827494478516311\n",
      "Generated event 9, triggered at threshold 0.008804883581643464\n",
      "Data event 10, triggered at threshold 0.004880251583654433\n",
      "Generated event 10, triggered at threshold 0.009115888299750819\n",
      "Data event 11, triggered at threshold 0.005231099308056258\n",
      "Generated event 11, triggered at threshold 0.006669919663030122\n",
      "Data event 12, triggered at threshold 0.005805225516094896\n",
      "Generated event 12, triggered at threshold 0.010473708979594498\n",
      "Data event 13, triggered at threshold 0.003962688638701479\n",
      "Generated event 13, triggered at threshold 0.009437878277775381\n",
      "Data event 14, triggered at threshold 0.008214343584919423\n",
      "Generated event 14, triggered at threshold 0.011226677735108135\n",
      "Data event 15, triggered at threshold 0.00505263106533568\n",
      "Generated event 15, triggered at threshold 0.013354515629298987\n",
      "Data event 16, triggered at threshold 0.005607169938205458\n",
      "Generated event 16, triggered at threshold 0.009437878277775381\n",
      "Data event 17, triggered at threshold 0.004397603609302721\n",
      "Generated event 17, triggered at threshold 0.010473708979594498\n",
      "Data event 18, triggered at threshold 0.005231099308056258\n",
      "Generated event 18, triggered at threshold 0.009771241535346501\n"
     ]
    },
    {
     "name": "stderr",
     "output_type": "stream",
     "text": [
      "WARNING:NuRadioReco.readRNOGdata:reading in event 0/17 (0%) ETA: 0.0 minutes\n"
     ]
    },
    {
     "name": "stdout",
     "output_type": "stream",
     "text": [
      "Data event 0, triggered at threshold 0.004397603609302721\n",
      "Generated event 0, triggered at threshold 0.008214343584919423\n",
      "Data event 1, triggered at threshold 0.006222570836730231\n",
      "Generated event 1, triggered at threshold 0.008214343584919423\n",
      "Data event 2, triggered at threshold 0.006669919663030122\n",
      "Generated event 2, triggered at threshold 0.012458833642950081\n",
      "Data event 3, triggered at threshold 0.007934096665797492\n",
      "Generated event 3, triggered at threshold 0.007934096665797492\n",
      "Data event 4, triggered at threshold 0.006669919663030122\n",
      "Generated event 4, triggered at threshold 0.007934096665797492\n",
      "Data event 5, triggered at threshold 0.0054158713780794706\n",
      "Generated event 5, triggered at threshold 0.008804883581643464\n",
      "Data event 6, triggered at threshold 0.005805225516094896\n",
      "Generated event 6, triggered at threshold 0.009771241535346501\n",
      "Data event 7, triggered at threshold 0.0054158713780794706\n",
      "Generated event 7, triggered at threshold 0.009437878277775381\n",
      "Data event 8, triggered at threshold 0.008214343584919423\n",
      "Generated event 8, triggered at threshold 0.01289890261253308\n",
      "Data event 9, triggered at threshold 0.006010276782070382\n",
      "Generated event 9, triggered at threshold 0.007934096665797492\n",
      "Data event 10, triggered at threshold 0.002899422853882875\n",
      "Generated event 10, triggered at threshold 0.008504489341802677\n",
      "Data event 11, triggered at threshold 0.006669919663030122\n",
      "Generated event 11, triggered at threshold 0.00644236350872137\n",
      "Data event 12, triggered at threshold 0.00644236350872137\n",
      "Generated event 12, triggered at threshold 0.01289890261253308\n",
      "Data event 13, triggered at threshold 0.00505263106533568\n",
      "Generated event 13, triggered at threshold 0.009115888299750819\n",
      "Data event 14, triggered at threshold 0.00410265810582719\n",
      "Generated event 14, triggered at threshold 0.010473708979594498\n",
      "Data event 15, triggered at threshold 0.0054158713780794706\n",
      "Generated event 15, triggered at threshold 0.006905513520162331\n",
      "Data event 16, triggered at threshold 0.006905513520162331\n",
      "Generated event 16, triggered at threshold 0.007934096665797492\n"
     ]
    },
    {
     "name": "stderr",
     "output_type": "stream",
     "text": [
      "WARNING:NuRadioReco.readRNOGdata:reading in event 0/15 (0%) ETA: 0.0 minutes\n"
     ]
    },
    {
     "name": "stdout",
     "output_type": "stream",
     "text": [
      "Data event 0, triggered at threshold 0.008214343584919423\n",
      "Generated event 0, triggered at threshold 0.008504489341802677\n",
      "Data event 1, triggered at threshold 0.006669919663030122\n",
      "Generated event 1, triggered at threshold 0.011226677735108135\n",
      "Data event 2, triggered at threshold 0.005231099308056258\n",
      "Generated event 2, triggered at threshold 0.007934096665797492\n",
      "Data event 3, triggered at threshold 0.0054158713780794706\n",
      "Generated event 3, triggered at threshold 0.01011637979766207\n",
      "Data event 4, triggered at threshold 0.007401959996915637\n",
      "Generated event 4, triggered at threshold 0.008214343584919423\n",
      "Data event 5, triggered at threshold 0.00410265810582719\n",
      "Generated event 5, triggered at threshold 0.009437878277775381\n",
      "Data event 6, triggered at threshold 0.004552935074866948\n",
      "Generated event 6, triggered at threshold 0.008804883581643464\n",
      "Data event 7, triggered at threshold 0.006010276782070382\n",
      "Generated event 7, triggered at threshold 0.007934096665797492\n",
      "Data event 8, triggered at threshold 0.0054158713780794706\n",
      "Generated event 8, triggered at threshold 0.008804883581643464\n",
      "Data event 9, triggered at threshold 0.004552935074866948\n",
      "Generated event 9, triggered at threshold 0.009437878277775381\n",
      "Data event 10, triggered at threshold 0.005607169938205458\n",
      "Generated event 10, triggered at threshold 0.009771241535346501\n",
      "Data event 11, triggered at threshold 0.006222570836730231\n",
      "Generated event 11, triggered at threshold 0.006905513520162331\n",
      "Data event 12, triggered at threshold 0.007149428986597577\n",
      "Generated event 12, triggered at threshold 0.01011637979766207\n",
      "Data event 13, triggered at threshold 0.005607169938205458\n",
      "Generated event 13, triggered at threshold 0.008504489341802677\n",
      "Data event 14, triggered at threshold 0.009115888299750819\n",
      "Generated event 14, triggered at threshold 0.010473708979594498\n"
     ]
    },
    {
     "name": "stderr",
     "output_type": "stream",
     "text": [
      "WARNING:NuRadioReco.readRNOGdata:reading in event 0/29 (0%) ETA: 0.0 minutes\n"
     ]
    },
    {
     "name": "stdout",
     "output_type": "stream",
     "text": [
      "Data event 0, triggered at threshold 0.006669919663030122\n",
      "Generated event 0, triggered at threshold 0.008804883581643464\n",
      "Data event 1, triggered at threshold 0.008214343584919423\n",
      "Generated event 1, triggered at threshold 0.00644236350872137\n",
      "Data event 2, triggered at threshold 0.00410265810582719\n",
      "Generated event 2, triggered at threshold 0.008504489341802677\n",
      "Data event 3, triggered at threshold 0.00410265810582719\n",
      "Generated event 3, triggered at threshold 0.015885651294280528\n",
      "Data event 4, triggered at threshold 0.006010276782070382\n",
      "Generated event 4, triggered at threshold 0.009115888299750819\n",
      "Data event 5, triggered at threshold 0.00505263106533568\n",
      "Generated event 5, triggered at threshold 0.007401959996915637\n",
      "Data event 6, triggered at threshold 0.005231099308056258\n",
      "Generated event 6, triggered at threshold 0.011226677735108135\n",
      "Data event 7, triggered at threshold 0.005607169938205458\n",
      "Generated event 7, triggered at threshold 0.009437878277775381\n",
      "Data event 8, triggered at threshold 0.0042475715525368985\n",
      "Generated event 8, triggered at threshold 0.01289890261253308\n",
      "Data event 9, triggered at threshold 0.005805225516094896\n",
      "Generated event 9, triggered at threshold 0.007663410868007455\n",
      "Data event 10, triggered at threshold 0.004552935074866948\n",
      "Generated event 10, triggered at threshold 0.008504489341802677\n",
      "Data event 11, triggered at threshold 0.006905513520162331\n",
      "Generated event 11, triggered at threshold 0.01011637979766207\n",
      "Data event 12, triggered at threshold 0.00505263106533568\n",
      "Generated event 12, triggered at threshold 0.009115888299750819\n",
      "Data event 13, triggered at threshold 0.005607169938205458\n",
      "Generated event 13, triggered at threshold 0.007934096665797492\n",
      "Data event 14, triggered at threshold 0.007149428986597577\n",
      "Generated event 14, triggered at threshold 0.010473708979594498\n",
      "Data event 15, triggered at threshold 0.004880251583654433\n",
      "Generated event 15, triggered at threshold 0.00644236350872137\n",
      "Data event 16, triggered at threshold 0.006222570836730231\n",
      "Generated event 16, triggered at threshold 0.006669919663030122\n",
      "Data event 17, triggered at threshold 0.005607169938205458\n",
      "Generated event 17, triggered at threshold 0.009437878277775381\n",
      "Data event 18, triggered at threshold 0.004713753134116724\n",
      "Generated event 18, triggered at threshold 0.007934096665797492\n",
      "Data event 19, triggered at threshold 0.00410265810582719\n",
      "Generated event 19, triggered at threshold 0.01011637979766207\n",
      "Data event 20, triggered at threshold 0.006222570836730231\n",
      "Generated event 20, triggered at threshold 0.009437878277775381\n",
      "Data event 21, triggered at threshold 0.003962688638701479\n",
      "Generated event 21, triggered at threshold 0.01289890261253308\n",
      "Data event 22, triggered at threshold 0.00505263106533568\n",
      "Generated event 22, triggered at threshold 0.008804883581643464\n",
      "Data event 23, triggered at threshold 0.00505263106533568\n",
      "Generated event 23, triggered at threshold 0.01011637979766207\n",
      "Data event 24, triggered at threshold 0.00644236350872137\n",
      "Generated event 24, triggered at threshold 0.010473708979594498\n",
      "Data event 25, triggered at threshold 0.004880251583654433\n",
      "Generated event 25, triggered at threshold 0.009437878277775381\n",
      "Data event 26, triggered at threshold 0.00505263106533568\n",
      "Generated event 26, triggered at threshold 0.007401959996915637\n",
      "Data event 27, triggered at threshold 0.004552935074866948\n",
      "Generated event 27, triggered at threshold 0.00644236350872137\n",
      "Data event 28, triggered at threshold 0.008804883581643464\n",
      "Generated event 28, triggered at threshold 0.008804883581643464\n"
     ]
    }
   ],
   "source": [
    "path_to_files = \"../../../shallman/data/rno_g/forced_triggers/inbox/\"\n",
    "lower = 50\n",
    "higher = 1600\n",
    "threshold(path_to_files, lower, higher)\n",
    "# analyze_threshold(lower, higher)"
   ]
  },
  {
   "cell_type": "code",
   "execution_count": 116,
   "metadata": {},
   "outputs": [
    {
     "data": {
      "image/png": "[encoded data removed]",
      "text/plain": [
       "<Figure size 432x288 with 1 Axes>"
      ]
     },
     "metadata": {
      "needs_background": "light"
     },
     "output_type": "display_data"
    }
   ],
   "source": [
    "if lower < 1:\n",
    "    lower = 0\n",
    "data = pd.read_hdf(\"trigger_threshold_scan.hdf5\")\n",
    "\n",
    "thresholds = np.logspace(-4,-1,200)\n",
    "\n",
    "n_triggers = np.zeros((11,len(thresholds)))\n",
    "n_triggers_gen = np.zeros_like(thresholds)\n",
    "\n",
    "for i, thres in enumerate(thresholds):\n",
    "    n_triggers[0][i] = np.sum(data.threshold_0>thres)\n",
    "    n_triggers[1][i] = np.sum(data.threshold_1>thres)\n",
    "    n_triggers[2][i] = np.sum(data.threshold_2>thres)\n",
    "    n_triggers[3][i] = np.sum(data.threshold_3>thres)\n",
    "    n_triggers[4][i] = np.sum(data.threshold_4>thres)\n",
    "    n_triggers[5][i] = np.sum(data.threshold_5>thres)\n",
    "    n_triggers[6][i] = np.sum(data.threshold_6>thres)\n",
    "    n_triggers[7][i] = np.sum(data.threshold_7>thres)\n",
    "    n_triggers[8][i] = np.sum(data.threshold_4>thres)\n",
    "    n_triggers[9][i] = np.sum(data.threshold_5>thres)\n",
    "    n_triggers[10][i] = np.sum(data.threshold_6>thres)\n",
    "    n_triggers_gen[i] = np.sum(data.threshold_generator>thres)\n",
    "\n",
    "plt.plot(thresholds, n_triggers[0]/len(data.threshold_0)*11.7, alpha=0.5, color = 'grey')\n",
    "plt.plot(thresholds, n_triggers[1]/len(data.threshold_1)*6.2, alpha=0.5, color = 'grey')\n",
    "plt.plot(thresholds, n_triggers[2]/len(data.threshold_2)*11.7, alpha=0.5, color = 'grey')\n",
    "plt.plot(thresholds, n_triggers[3]/len(data.threshold_3)*12.3, alpha=0.5, color = 'grey')\n",
    "plt.plot(thresholds, n_triggers[4]/len(data.threshold_4)*6.9, alpha=0.5, color = 'grey')\n",
    "plt.plot(thresholds, n_triggers[5]/len(data.threshold_5)*13, alpha=0.5, color = 'grey')\n",
    "plt.plot(thresholds, n_triggers[6]/len(data.threshold_6)*222, alpha=0.5, color = 'grey')\n",
    "plt.plot(thresholds, n_triggers[7]/len(data.threshold_7)*11.7, alpha=0.5, color = 'grey')\n",
    "plt.plot(thresholds, n_triggers[8]/len(data.threshold_8)*6.9, alpha=0.5, color = 'grey')\n",
    "plt.plot(thresholds, n_triggers[9]/len(data.threshold_9)*13, alpha=0.5, color = 'grey')\n",
    "plt.plot(thresholds, n_triggers[10]/len(data.threshold_10)*222, alpha=0.5, color = 'grey')\n",
    "\n",
    "\n",
    "\n",
    "plt.plot(thresholds, n_triggers_gen/len(data.threshold_generator), label = \"Generated\")\n",
    "plt.plot(thresholds, np.mean(n_triggers, axis=0)*11.5/len(data.threshold_generator), label = \"Average\")\n",
    "plt.xlabel(\"Trigger threshold\")\n",
    "plt.ylabel(\"Triggered event fraction\")\n",
    "plt.legend()\n",
    "plt.title(f\"Trigger analysis with bandpass filter ({lower}-{higher} MHz)\")\n",
    "plt.semilogx()\n",
    "plt.show()\n"
   ]
  },
  {
   "cell_type": "code",
   "execution_count": 9,
   "metadata": {},
   "outputs": [
    {
     "data": {
      "text/plain": [
       "0      0.006906\n",
       "1      0.005805\n",
       "2      0.007149\n",
       "3      0.007149\n",
       "4      0.004103\n",
       "         ...   \n",
       "217         NaN\n",
       "218         NaN\n",
       "219         NaN\n",
       "220         NaN\n",
       "221         NaN\n",
       "Name: threshold_0, Length: 222, dtype: float64"
      ]
     },
     "execution_count": 9,
     "metadata": {},
     "output_type": "execute_result"
    }
   ],
   "source": [
    "data.threshold_0"
   ]
  },
  {
   "cell_type": "code",
   "execution_count": 29,
   "metadata": {},
   "outputs": [
    {
     "name": "stdout",
     "output_type": "stream",
     "text": [
      "[[0. 0. 0. ... 0. 0. 0.]\n",
      " [0. 0. 0. ... 0. 0. 0.]\n",
      " [0. 0. 0. ... 0. 0. 0.]\n",
      " ...\n",
      " [0. 0. 0. ... 0. 0. 0.]\n",
      " [0. 0. 0. ... 0. 0. 0.]\n",
      " [0. 0. 0. ... 0. 0. 0.]]\n"
     ]
    }
   ],
   "source": [
    "print(n_triggers)"
   ]
  },
  {
   "cell_type": "code",
   "execution_count": null,
   "metadata": {},
   "outputs": [],
   "source": []
  }
 ],
 "metadata": {
  "kernelspec": {
   "display_name": "Python [conda env:anaconda_p3-jupyter]",
   "language": "python",
   "name": "conda-env-anaconda_p3-jupyter-py"
  },
  "language_info": {
   "codemirror_mode": {
    "name": "ipython",
    "version": 3
   },
   "file_extension": ".py",
   "mimetype": "text/x-python",
   "name": "python",
   "nbconvert_exporter": "python",
   "pygments_lexer": "ipython3",
   "version": "3.9.12"
  },
  "vscode": {
   "interpreter": {
    "hash": "5637242735df105300a10f363d5c0d18b4b77d7105ef62addc8c3980e22cd89c"
   }
  }
 },
 "nbformat": 4,
 "nbformat_minor": 4
}
